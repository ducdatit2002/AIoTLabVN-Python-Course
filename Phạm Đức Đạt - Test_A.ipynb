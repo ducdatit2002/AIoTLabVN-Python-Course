{
  "cells": [
    {
      "cell_type": "markdown",
      "metadata": {},
      "source": [
        "# Note: You are not allowed to use Chat GPT until the last 15 minutes of the test"
      ]
    },
    {
      "cell_type": "markdown",
      "metadata": {
        "id": "9_xJPT3bxGwu"
      },
      "source": [
        "# Part 1: Python"
      ]
    },
    {
      "cell_type": "markdown",
      "metadata": {
        "id": "K4AC16fHxKdd"
      },
      "source": [
        "Ex1: Create a Python class called **Circle** with attributes ***radius***. Implement methods ***area()*** to calculate the area and **circumference()** to calculate the circumference of the circle."
      ]
    },
    {
      "cell_type": "code",
      "execution_count": null,
      "metadata": {
        "id": "7gqrTY3TWNBp"
      },
      "outputs": [],
      "source": []
    },
    {
      "cell_type": "markdown",
      "metadata": {
        "id": "X4px0XrrxY7C"
      },
      "source": [
        "Ex 2: Create a class **Book** with attributes ***title***, ***author***, and ***price***. Implement a method ***discount()*** that takes a percentage and returns the discounted price of the book."
      ]
    },
    {
      "cell_type": "code",
      "execution_count": null,
      "metadata": {
        "id": "U89CgaLkxpev"
      },
      "outputs": [],
      "source": []
    },
    {
      "cell_type": "markdown",
      "metadata": {
        "id": "_898I434xp6m"
      },
      "source": [
        "Ex 3: Create a class **Bank** with attributes ***account_number***, ***account_holder***, and ***balance***. Implement methods ***deposit()*** and ***withdraw()*** to update the balance, and a ***display_balance()*** method to show the current balance."
      ]
    },
    {
      "cell_type": "code",
      "execution_count": null,
      "metadata": {
        "id": "FCEOIEIsx14_"
      },
      "outputs": [],
      "source": []
    },
    {
      "cell_type": "markdown",
      "metadata": {
        "id": "1Wag-kTYyGCB"
      },
      "source": [
        "Ex 4: Create a class **Employee** with attributes ***name***, ***salary***, and ***position***. Implement a method ***calculate_bonus()*** that calculates and returns a bonus based on the salary."
      ]
    },
    {
      "cell_type": "code",
      "execution_count": null,
      "metadata": {
        "id": "7-hxVqCcyR_0"
      },
      "outputs": [],
      "source": []
    },
    {
      "cell_type": "markdown",
      "metadata": {
        "id": "CYK8sTq0ytgO"
      },
      "source": [
        "Ex 5: Create a class **Person** with attributes ***name*** and ***email***. Implement a method ***send_email()*** that takes a message and sends an email to the person's email address."
      ]
    },
    {
      "cell_type": "code",
      "execution_count": null,
      "metadata": {
        "id": "b_Mt1m70y1OY"
      },
      "outputs": [],
      "source": []
    },
    {
      "cell_type": "markdown",
      "metadata": {
        "id": "joxGxhOxy1nE"
      },
      "source": [
        "Ex 6: Given a list of tuples t = [(), (), (\"\",), ('a', 'b'), ('a', 'b', 'c'), ('d')], please remove all empty tuples from the list"
      ]
    },
    {
      "cell_type": "code",
      "execution_count": 1,
      "metadata": {
        "id": "x1ZrVaLZzVz4"
      },
      "outputs": [],
      "source": [
        "t = [(), (), ('',), ('a', 'b'), ('a', 'b', 'c'), ('d')]\n",
        "# Your code from here"
      ]
    },
    {
      "cell_type": "markdown",
      "metadata": {
        "id": "gen58s7dzoKO"
      },
      "source": [
        "Ex 7: Write a program to reverse a given string"
      ]
    },
    {
      "cell_type": "code",
      "execution_count": null,
      "metadata": {
        "id": "gnK9Y6Gv0Fqv"
      },
      "outputs": [],
      "source": []
    },
    {
      "cell_type": "markdown",
      "metadata": {
        "id": "xn6_jcY-Khss"
      },
      "source": [
        "Ex 8: Create a number guessing game where:\n",
        "- When beginning the game, the programe create a randome secret integer, the mission of user is to guess the right secret number\n",
        "- The game will end in N turns, after N turns if user still not guess the right number user will loose, N is entered by user\n",
        "- If user make a right guess, which is enter the right number that is randomly created by the program, print out winning message and ask if user want to play another game, else end the program"
      ]
    },
    {
      "cell_type": "code",
      "execution_count": null,
      "metadata": {
        "id": "mc0RklY_Kj4K"
      },
      "outputs": [],
      "source": []
    },
    {
      "cell_type": "markdown",
      "metadata": {
        "id": "ZHGcMO-I0PGZ"
      },
      "source": [
        "# Part 2: NumPy"
      ]
    },
    {
      "cell_type": "markdown",
      "metadata": {
        "id": "1qUJSmeHPYPa"
      },
      "source": [
        "Import numpy"
      ]
    },
    {
      "cell_type": "code",
      "execution_count": 2,
      "metadata": {
        "id": "5mg7_W6p0Qwr"
      },
      "outputs": [],
      "source": []
    },
    {
      "cell_type": "markdown",
      "metadata": {
        "id": "Y4VWaG850V-b"
      },
      "source": [
        "Ex 1: Create a 3x3 identity matrix I."
      ]
    },
    {
      "cell_type": "code",
      "execution_count": null,
      "metadata": {
        "id": "jjqfukY90bVX"
      },
      "outputs": [],
      "source": []
    },
    {
      "cell_type": "markdown",
      "metadata": {
        "id": "L7vTc8170btq"
      },
      "source": [
        "Ex 2: Create a NumPy array **A** with values [1, 2, 3, 4, 5, 6] and reshape it into a 2x3 matrix. Then, calculate the transpose of the matrix and print the result."
      ]
    },
    {
      "cell_type": "code",
      "execution_count": null,
      "metadata": {
        "id": "ZY5TqzHW0iHa"
      },
      "outputs": [],
      "source": []
    },
    {
      "cell_type": "markdown",
      "metadata": {
        "id": "aoXFZCWf0i1I"
      },
      "source": [
        "Ex 3: Create a NumPy array ***B*** with values [3, 5, 7, 2, 4, 6] and reshape it into a 2x3 matrix. Perform element-wise multiplication with the matrix A from question 7 and print the result."
      ]
    },
    {
      "cell_type": "code",
      "execution_count": null,
      "metadata": {
        "id": "J7rqLc8K0pCA"
      },
      "outputs": [],
      "source": []
    },
    {
      "cell_type": "markdown",
      "metadata": {
        "id": "PwpPiaud0qN0"
      },
      "source": [
        "Ex 4: Create a NumPy array ***C*** with values [8, 12, 5, 20, 3, 15, 9]. Find and print the maximum value in the array."
      ]
    },
    {
      "cell_type": "code",
      "execution_count": null,
      "metadata": {
        "id": "dGGTKz0-0t4T"
      },
      "outputs": [],
      "source": []
    },
    {
      "cell_type": "markdown",
      "metadata": {
        "id": "CUDu_INS0yvm"
      },
      "source": [
        "Ex 5: Create a NumPy array **D** with values [5, 10, 15, 20]. Calculate the square root of each element in the array and print the result."
      ]
    },
    {
      "cell_type": "code",
      "execution_count": null,
      "metadata": {
        "id": "DH-USfhq0yX8"
      },
      "outputs": [],
      "source": []
    },
    {
      "cell_type": "markdown",
      "metadata": {
        "id": "xJwHE6BD02LN"
      },
      "source": [
        "Ex 6: Write a NumPy program to create an 8x8 matrix and fill it with a checkerboard pattern."
      ]
    },
    {
      "cell_type": "code",
      "execution_count": null,
      "metadata": {
        "id": "PB_zVzMeH_W2"
      },
      "outputs": [],
      "source": []
    },
    {
      "cell_type": "markdown",
      "metadata": {
        "id": "ONu-dm8GJ1wp"
      },
      "source": [
        "Ex 7: Write a NumPy program to find common values between two arrays."
      ]
    },
    {
      "cell_type": "code",
      "execution_count": null,
      "metadata": {
        "id": "fyCMyosxKIz7"
      },
      "outputs": [],
      "source": []
    },
    {
      "cell_type": "markdown",
      "metadata": {
        "id": "imT8-wAfKoU0"
      },
      "source": [
        "# Part 3: Pandas"
      ]
    },
    {
      "cell_type": "markdown",
      "metadata": {
        "id": "B_4tAAVRMTSx"
      },
      "source": [
        "Ex 1: Import **Pandas** and create a Pandas DataFrame from a CSV file named \"***data.csv***\". Display the first 5 rows of the DataFrame"
      ]
    },
    {
      "cell_type": "code",
      "execution_count": null,
      "metadata": {
        "id": "8cjLASn7Kpo4"
      },
      "outputs": [],
      "source": []
    },
    {
      "cell_type": "markdown",
      "metadata": {
        "id": "GZaVK8naNgbQ"
      },
      "source": [
        "Ex 2: Remove the ***Date*** column and in the ***Month*** column, convert months to numbers, e.g., January to 1,..."
      ]
    },
    {
      "cell_type": "code",
      "execution_count": null,
      "metadata": {
        "id": "uCx8IeLWNcDx"
      },
      "outputs": [],
      "source": []
    },
    {
      "cell_type": "markdown",
      "metadata": {
        "id": "JXQ31q3abcx3"
      },
      "source": [
        "Ex 3: Change the name of column ***Customer*** to ***Age***"
      ]
    },
    {
      "cell_type": "code",
      "execution_count": null,
      "metadata": {
        "id": "zAhTF3gKbhuP"
      },
      "outputs": [],
      "source": []
    },
    {
      "cell_type": "markdown",
      "metadata": {
        "id": "6a3eDjVgOCz7"
      },
      "source": [
        "Ex 4: Calulate the mean revenue of product name ***Hydration Pack - 70 oz.***"
      ]
    },
    {
      "cell_type": "code",
      "execution_count": null,
      "metadata": {
        "id": "oVOtiEufOcRL"
      },
      "outputs": [],
      "source": []
    },
    {
      "cell_type": "markdown",
      "metadata": {
        "id": "NsR3I-OPOcxy"
      },
      "source": [
        "Ex 5: Calculate the total revenue in 2016 of product name ***Hitch Rack - 4-Bike*** whose customers are young male adult age from 25 to 34"
      ]
    },
    {
      "cell_type": "code",
      "execution_count": null,
      "metadata": {
        "id": "r12WRQ60PC-u"
      },
      "outputs": [],
      "source": []
    },
    {
      "cell_type": "markdown",
      "metadata": {
        "id": "RnvJlR3GPDkx"
      },
      "source": [
        "Ex 6: Same as question 4 but now only calculate the total revenue in May"
      ]
    },
    {
      "cell_type": "code",
      "execution_count": null,
      "metadata": {
        "id": "95YlkELXPUY7"
      },
      "outputs": [],
      "source": []
    }
  ],
  "metadata": {
    "colab": {
      "collapsed_sections": [
        "ZHGcMO-I0PGZ",
        "imT8-wAfKoU0"
      ],
      "provenance": []
    },
    "kernelspec": {
      "display_name": "Python 3",
      "name": "python3"
    },
    "language_info": {
      "name": "python"
    }
  },
  "nbformat": 4,
  "nbformat_minor": 0
}
