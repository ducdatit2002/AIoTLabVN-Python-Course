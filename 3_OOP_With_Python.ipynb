{
  "cells": [
    {
      "cell_type": "markdown",
      "metadata": {
        "id": "GvJTK_uHgHgg"
      },
      "source": [
        "# CLASSES/OBJECTS"
      ]
    },
    {
      "cell_type": "markdown",
      "metadata": {
        "id": "ctyjqmUuiBku"
      },
      "source": [
        "## 1. Create Classes"
      ]
    },
    {
      "cell_type": "code",
      "execution_count": 1,
      "metadata": {
        "id": "lCl9LJsqf6Fd"
      },
      "outputs": [
        {
          "name": "stdout",
          "output_type": "stream",
          "text": [
            "<class '__main__.MyClass'>\n"
          ]
        }
      ],
      "source": [
        "class MyClass:\n",
        "  x = 5\n",
        "\n",
        "print(MyClass)"
      ]
    },
    {
      "cell_type": "markdown",
      "metadata": {
        "id": "RQN3kL-_iIF3"
      },
      "source": [
        "## 2. Create Objects"
      ]
    },
    {
      "cell_type": "code",
      "execution_count": null,
      "metadata": {
        "id": "yKmCJxphg8yW"
      },
      "outputs": [],
      "source": [
        "class MyClass:\n",
        "\tx = 5\n",
        "\n",
        "p1 = MyClass()\n",
        "print(p1.x)"
      ]
    },
    {
      "cell_type": "markdown",
      "metadata": {
        "id": "rwCRRE5YiKr-"
      },
      "source": [
        "## 3. The ``__init__()`` Function"
      ]
    },
    {
      "cell_type": "code",
      "execution_count": null,
      "metadata": {
        "colab": {
          "base_uri": "https://localhost:8080/"
        },
        "id": "vzZldSGJhSFx",
        "outputId": "d30e614a-7d72-4d7d-ac38-9cc97d61346e"
      },
      "outputs": [],
      "source": [
        "class Person:\n",
        "\tdef __init__(self, name, age):\n",
        "\t\tself.name = name\n",
        "\t\tself.age = age\n",
        "\n",
        "p1 = Person('John', 36)\n",
        "\n",
        "print(p1.name)\n",
        "print(p1.age)"
      ]
    },
    {
      "cell_type": "markdown",
      "metadata": {
        "id": "Sb52mI4HiWE3"
      },
      "source": [
        "## 4. The ``__str__()`` Function"
      ]
    },
    {
      "cell_type": "code",
      "execution_count": 2,
      "metadata": {
        "colab": {
          "base_uri": "https://localhost:8080/"
        },
        "id": "dicVdVUrhg63",
        "outputId": "e048fb83-b51f-4512-8999-0f1fb8fb1ce5"
      },
      "outputs": [
        {
          "name": "stdout",
          "output_type": "stream",
          "text": [
            "<__main__.Person object at 0x1038c96d0>\n"
          ]
        }
      ],
      "source": [
        "# WITHOUT __str__() function:\n",
        "class Person:\n",
        "\tdef __init__(self, name, age):\n",
        "\t\tself.name = name\n",
        "\t\tself.age = age\n",
        "\n",
        "p1 = Person('John', 36)\n",
        "\n",
        "print(p1)"
      ]
    },
    {
      "cell_type": "code",
      "execution_count": null,
      "metadata": {
        "colab": {
          "base_uri": "https://localhost:8080/"
        },
        "id": "YGkoj_6thma-",
        "outputId": "859fe71d-789d-406f-e9d2-74ad9ea237a9"
      },
      "outputs": [],
      "source": [
        "# WITH __str__() function:\n",
        "class Person:\n",
        "\tdef __init__(self, name, age):\n",
        "\t\tself.name = name\n",
        "\t\tself.age = age\n",
        "\n",
        "\tdef __str__(self):\n",
        "\t\treturn f'{self.name}({self.age})'\n",
        "\n",
        "p1 = Person('John', 36)\n",
        "\n",
        "print(p1)"
      ]
    },
    {
      "cell_type": "markdown",
      "metadata": {
        "id": "KEbwudYFibin"
      },
      "source": [
        "## 5. Object Methods"
      ]
    },
    {
      "cell_type": "code",
      "execution_count": null,
      "metadata": {
        "colab": {
          "base_uri": "https://localhost:8080/"
        },
        "id": "t_uhr_athrce",
        "outputId": "0838b6a0-a10d-4cbf-8867-8d81969653f9"
      },
      "outputs": [],
      "source": [
        "class Person:\n",
        "\tdef __init__(self, name, age):\n",
        "\t\tself.name = name\n",
        "\t\tself.age = age\n",
        "\n",
        "\tdef myfunc(self):\n",
        "\t\tprint('Hello my name is ' + self.name)\n",
        "\n",
        "p1 = Person('John', 36)\n",
        "p1.myfunc()"
      ]
    },
    {
      "cell_type": "markdown",
      "metadata": {
        "id": "6b7X2Z_dilkH"
      },
      "source": [
        "## 6. The ``self`` Parameter"
      ]
    },
    {
      "cell_type": "code",
      "execution_count": null,
      "metadata": {
        "colab": {
          "base_uri": "https://localhost:8080/"
        },
        "id": "ZSbKegTnh30W",
        "outputId": "1be6cad2-55fe-4aab-9100-56578b03ad4d"
      },
      "outputs": [],
      "source": [
        "# Using 'mysillyobject' and 'abc' instead of 'self':\n",
        "class Person:\n",
        "\tdef __init__(mysillyobject, name, age):\n",
        "\t\tmysillyobject.name = name\n",
        "\t\tmysillyobject.age = age\n",
        "\n",
        "\tdef myfunc(abc):\n",
        "\t\tprint('Hello my name is ' + abc.name)\n",
        "\n",
        "p1 = Person('John', 36)\n",
        "p1.myfunc()"
      ]
    },
    {
      "cell_type": "markdown",
      "metadata": {
        "id": "mZAsI0W4jq1G"
      },
      "source": [
        "## 7. Modify Object Properties"
      ]
    },
    {
      "cell_type": "code",
      "execution_count": null,
      "metadata": {
        "colab": {
          "base_uri": "https://localhost:8080/"
        },
        "id": "n1TdArRsh8L2",
        "outputId": "2c347b43-a6bf-4e7e-b620-a8fed1b7248b"
      },
      "outputs": [],
      "source": [
        "class Person:\n",
        "\tdef __init__(self, name, age):\n",
        "\t\tself.name = name\n",
        "\t\tself.age = age\n",
        "\n",
        "\tdef myfunc(self):\n",
        "\t\tprint('Hello my name is ' + self.name)\n",
        "\n",
        "p1 = Person('John', 36)\n",
        "\n",
        "p1.age = 40\n",
        "\n",
        "print(p1.age)"
      ]
    },
    {
      "cell_type": "markdown",
      "metadata": {
        "id": "hJ5SQe2Hj9fp"
      },
      "source": [
        "## 8. Delete Object Properties"
      ]
    },
    {
      "cell_type": "code",
      "execution_count": 2,
      "metadata": {
        "colab": {
          "base_uri": "https://localhost:8080/",
          "height": 210
        },
        "id": "xZsyaLRFkAof",
        "outputId": "b6a42e80-9e4b-4168-c886-9a2dffef4bc3"
      },
      "outputs": [
        {
          "ename": "AttributeError",
          "evalue": "'Person' object has no attribute 'age'",
          "output_type": "error",
          "traceback": [
            "\u001b[0;31m---------------------------------------------------------------------------\u001b[0m",
            "\u001b[0;31mAttributeError\u001b[0m                            Traceback (most recent call last)",
            "\u001b[1;32m/Volumes/Workspace /AIoT-Lab-VN/Python/3_OOP_With_Python.ipynb Cell 18\u001b[0m line \u001b[0;36m1\n\u001b[1;32m     <a href='vscode-notebook-cell:/Volumes/Workspace%20/AIoT-Lab-VN/Python/3_OOP_With_Python.ipynb#X23sZmlsZQ%3D%3D?line=9'>10</a>\u001b[0m p1 \u001b[39m=\u001b[39m Person(\u001b[39m'\u001b[39m\u001b[39mJohn\u001b[39m\u001b[39m'\u001b[39m, \u001b[39m36\u001b[39m)\n\u001b[1;32m     <a href='vscode-notebook-cell:/Volumes/Workspace%20/AIoT-Lab-VN/Python/3_OOP_With_Python.ipynb#X23sZmlsZQ%3D%3D?line=11'>12</a>\u001b[0m \u001b[39mdel\u001b[39;00m p1\u001b[39m.\u001b[39mage\n\u001b[0;32m---> <a href='vscode-notebook-cell:/Volumes/Workspace%20/AIoT-Lab-VN/Python/3_OOP_With_Python.ipynb#X23sZmlsZQ%3D%3D?line=13'>14</a>\u001b[0m \u001b[39mprint\u001b[39m(p1\u001b[39m.\u001b[39;49mage)\n",
            "\u001b[0;31mAttributeError\u001b[0m: 'Person' object has no attribute 'age'"
          ]
        }
      ],
      "source": [
        "class Person:\n",
        "\tdef __init__(self, name, age):\n",
        "\t\tself.name = name\n",
        "\t\tself.age = age\n",
        "\n",
        "\tdef myfunc(self):\n",
        "\t\tprint('Hello my name is ' + self.name)\n",
        "\n",
        "\n",
        "p1 = Person('John', 36)\n",
        "\n",
        "del p1.age\n",
        "\n",
        "print(p1.age)"
      ]
    },
    {
      "cell_type": "markdown",
      "metadata": {
        "id": "7ENBz_ISkJ4W"
      },
      "source": [
        "## 9. Delete Objects"
      ]
    },
    {
      "cell_type": "code",
      "execution_count": null,
      "metadata": {
        "colab": {
          "base_uri": "https://localhost:8080/",
          "height": 210
        },
        "id": "2JEcgQXNkNFv",
        "outputId": "a81a4910-5895-405c-b7c8-4b86a6d65432"
      },
      "outputs": [],
      "source": [
        "class Person:\n",
        "\tdef __init__(self, name, age):\n",
        "\t\tself.name = name\n",
        "\t\tself.age = age\n",
        "\n",
        "\tdef myfunc(self):\n",
        "\t\tprint('Hello my name is ' + self.name)\n",
        "\n",
        "p1 = Person('John', 36)\n",
        "\n",
        "del p1\n",
        "\n",
        "print(p1)"
      ]
    },
    {
      "cell_type": "markdown",
      "metadata": {
        "id": "wkegYfhWkS9v"
      },
      "source": [
        "## 10. The ``pass`` Statement"
      ]
    },
    {
      "cell_type": "code",
      "execution_count": null,
      "metadata": {
        "id": "DqCos3h0kW3_"
      },
      "outputs": [],
      "source": [
        "class Person:\n",
        "\tpass"
      ]
    },
    {
      "cell_type": "markdown",
      "metadata": {
        "id": "v9nMP0Jmgaof"
      },
      "source": [
        "# INHERITANCE"
      ]
    },
    {
      "cell_type": "markdown",
      "metadata": {
        "id": "I7FwAePH5c9x"
      },
      "source": [
        "## 1. Create a Parent Class"
      ]
    },
    {
      "cell_type": "code",
      "execution_count": null,
      "metadata": {
        "colab": {
          "base_uri": "https://localhost:8080/"
        },
        "id": "YoCpyFAl5ejq",
        "outputId": "e3a88386-6966-425e-8259-a9b666f149ef"
      },
      "outputs": [],
      "source": [
        "class Person:\n",
        "\tdef __init__(self, fname, lname):\n",
        "\t\tself.firstname = fname\n",
        "\t\tself.lastname = lname\n",
        "\n",
        "\tdef printname(self):\n",
        "\t\tprint(self.firstname, self.lastname)\n",
        "\n",
        "x = Person('John', 'Doe')\n",
        "x.printname()"
      ]
    },
    {
      "cell_type": "markdown",
      "metadata": {
        "id": "fW74_LBe5fUA"
      },
      "source": [
        "## 2. Create a Child Class"
      ]
    },
    {
      "cell_type": "code",
      "execution_count": null,
      "metadata": {
        "id": "9RHu7yjRgepJ"
      },
      "outputs": [],
      "source": [
        "class Student(Person):\n",
        "\tpass"
      ]
    },
    {
      "cell_type": "code",
      "execution_count": null,
      "metadata": {
        "colab": {
          "base_uri": "https://localhost:8080/"
        },
        "id": "cPZ3qZ3G5rQg",
        "outputId": "a8a01e64-a6fc-421b-884d-9344eb61bacf"
      },
      "outputs": [],
      "source": [
        "class Person:\n",
        "\tdef __init__(self, fname, lname):\n",
        "\t\tself.firstname = fname\n",
        "\t\tself.lastname = lname\n",
        "\n",
        "\tdef printname(self):\n",
        "\t\tprint(self.firstname, self.lastname)\n",
        "\n",
        "class Student(Person):\n",
        "\tpass\n",
        "\n",
        "x = Student('Mike', 'Olsen')\n",
        "x.printname()"
      ]
    },
    {
      "cell_type": "markdown",
      "metadata": {
        "id": "aDkfZDdR5vyK"
      },
      "source": [
        "## 3. Add ``__init__()`` Function to Child Class"
      ]
    },
    {
      "cell_type": "code",
      "execution_count": null,
      "metadata": {
        "id": "RH0i-g5B58px"
      },
      "outputs": [],
      "source": [
        "class Student(Person):\n",
        "  def __init__(self, fname, lname):\n",
        "    # Add properties etc.\n",
        "    pass"
      ]
    },
    {
      "cell_type": "code",
      "execution_count": null,
      "metadata": {
        "colab": {
          "base_uri": "https://localhost:8080/"
        },
        "id": "C5eamWgO5_sQ",
        "outputId": "309e600f-35c3-498a-bf6c-cbab9573943a"
      },
      "outputs": [],
      "source": [
        "class Person:\n",
        "\tdef __init__(self, fname, lname):\n",
        "\t\tself.firstname = fname\n",
        "\t\tself.lastname = lname\n",
        "\n",
        "\tdef printname(self):\n",
        "\t\tprint(self.firstname, self.lastname)\n",
        "\n",
        "class Student(Person):\n",
        "\tdef __init__(self, fname, lname):\n",
        "\t\tPerson.__init__(self, fname, lname)\n",
        "\n",
        "x = Student('Mike', 'Olsen')\n",
        "x.printname()"
      ]
    },
    {
      "cell_type": "markdown",
      "metadata": {
        "id": "eDOpqmOO6gNY"
      },
      "source": [
        "## 4. Use the ``super()`` Function"
      ]
    },
    {
      "cell_type": "code",
      "execution_count": null,
      "metadata": {
        "colab": {
          "base_uri": "https://localhost:8080/"
        },
        "id": "CaofTOFO6kwE",
        "outputId": "8a275a97-c634-4092-f213-c09823585182"
      },
      "outputs": [],
      "source": [
        "class Person:\n",
        "\tdef __init__(self, fname, lname):\n",
        "\t\tself.firstname = fname\n",
        "\t\tself.lastname = lname\n",
        "\n",
        "\tdef printname(self):\n",
        "\t\tprint(self.firstname, self.lastname)\n",
        "\n",
        "class Student(Person):\n",
        "\tdef __init__(self, fname, lname):\n",
        "\t\tsuper().__init__(fname, lname)\n",
        "\n",
        "x = Student('Mike', 'Olsen')\n",
        "x.printname()"
      ]
    },
    {
      "cell_type": "markdown",
      "metadata": {
        "id": "WieK0rXR6pXH"
      },
      "source": [
        "## 5. Add Properties to Child Class"
      ]
    },
    {
      "cell_type": "code",
      "execution_count": null,
      "metadata": {
        "colab": {
          "base_uri": "https://localhost:8080/"
        },
        "id": "mlfRWjpU6rza",
        "outputId": "267784de-5818-4d20-a40f-3dd9541147a8"
      },
      "outputs": [],
      "source": [
        "# Add a property called 'graduationyear' to the Student class:\n",
        "class Person:\n",
        "\tdef __init__(self, fname, lname):\n",
        "\t\tself.firstname = fname\n",
        "\t\tself.lastname = lname\n",
        "\n",
        "\tdef printname(self):\n",
        "\t\tprint(self.firstname, self.lastname)\n",
        "\n",
        "class Student(Person):\n",
        "\tdef __init__(self, fname, lname):\n",
        "\t\tsuper().__init__(fname, lname)\n",
        "\t\tself.graduationyear = 2019\n",
        "\n",
        "x = Student('Mike', 'Olsen')\n",
        "print(x.graduationyear)"
      ]
    },
    {
      "cell_type": "code",
      "execution_count": null,
      "metadata": {
        "colab": {
          "base_uri": "https://localhost:8080/"
        },
        "id": "pe6PhiFU653Q",
        "outputId": "24ae09fe-f4ce-48d7-a29f-ec0ede7f06fd"
      },
      "outputs": [],
      "source": [
        "# The year 2019 should be a variable, and passed into the Student class when creating Student objects\n",
        "# => Add it as another parameter in __init__() function\n",
        "class Person:\n",
        "\tdef __init__(self, fname, lname):\n",
        "\t\tself.firstname = fname\n",
        "\t\tself.lastname = lname\n",
        "\n",
        "\tdef printname(self):\n",
        "\t\tprint(self.firstname, self.lastname)\n",
        "\n",
        "class Student(Person):\n",
        "\tdef __init__(self, fname, lname, year):\n",
        "\t\tsuper().__init__(fname, lname)\n",
        "\t\tself.graduationyear = year\n",
        "\n",
        "x = Student('Mike', 'Olsen', 2019)\n",
        "print(x.graduationyear)"
      ]
    },
    {
      "cell_type": "markdown",
      "metadata": {
        "id": "rsCLK22K611Q"
      },
      "source": [
        "## 6. Add Methods to Child Class"
      ]
    },
    {
      "cell_type": "code",
      "execution_count": null,
      "metadata": {
        "colab": {
          "base_uri": "https://localhost:8080/"
        },
        "id": "T3PTLNgZ64_I",
        "outputId": "b7904c72-a1f0-43a0-dfeb-279a97330854"
      },
      "outputs": [],
      "source": [
        "class Person:\n",
        "\tdef __init__(self, fname, lname):\n",
        "\t\tself.firstname = fname\n",
        "\t\tself.lastname = lname\n",
        "\n",
        "\tdef printname(self):\n",
        "\t\tprint(self.firstname, self.lastname)\n",
        "\n",
        "class Student(Person):\n",
        "\tdef __init__(self, fname, lname, year):\n",
        "\t\tsuper().__init__(fname, lname)\n",
        "\t\tself.graduationyear = year\n",
        "\n",
        "\tdef welcome(self):\n",
        "\t\tprint(f'Welcome {self.firstname} {self.lastname} to the class of {self.graduationyear}')\n",
        "\n",
        "x = Student('Mike', 'Olsen', 2019)\n",
        "x.welcome()"
      ]
    },
    {
      "cell_type": "markdown",
      "metadata": {
        "id": "WnTDlQMfgfag"
      },
      "source": [
        "# POLYMORPHISM"
      ]
    },
    {
      "cell_type": "markdown",
      "metadata": {
        "id": "Xq2KNH5B70oE"
      },
      "source": [
        "## 1. Function Polymorphism"
      ]
    },
    {
      "cell_type": "code",
      "execution_count": 3,
      "metadata": {
        "colab": {
          "base_uri": "https://localhost:8080/"
        },
        "id": "V6w1glKpgh3Z",
        "outputId": "fd268dcb-9990-4f5a-aecf-c37bcd8a3e34"
      },
      "outputs": [
        {
          "name": "stdout",
          "output_type": "stream",
          "text": [
            "12\n"
          ]
        }
      ],
      "source": [
        "# STRING\n",
        "myStr = 'Hello World!'\n",
        "\n",
        "print(len(myStr))"
      ]
    },
    {
      "cell_type": "code",
      "execution_count": null,
      "metadata": {
        "colab": {
          "base_uri": "https://localhost:8080/"
        },
        "id": "ewxFb5JA7uII",
        "outputId": "ba354c21-3852-4480-adbd-af9312fca37f"
      },
      "outputs": [],
      "source": [
        "# TUPLE\n",
        "myTuple = ('apple', 'banana', 'cherry')\n",
        "\n",
        "print(len(myTuple))"
      ]
    },
    {
      "cell_type": "code",
      "execution_count": null,
      "metadata": {
        "colab": {
          "base_uri": "https://localhost:8080/"
        },
        "id": "UorJ1n_X7v9o",
        "outputId": "e192e215-2b47-4485-8cff-9717f528d402"
      },
      "outputs": [],
      "source": [
        "# DICTIONARY\n",
        "myDict = {\n",
        "\t'brand': 'Ford',\n",
        "\t'model': 'Mustang',\n",
        "\t'year': 1964\n",
        "}\n",
        "\n",
        "print(len(myDict))"
      ]
    },
    {
      "cell_type": "markdown",
      "metadata": {
        "id": "elGU35b673Iw"
      },
      "source": [
        "## 2. Class Polymorphism"
      ]
    },
    {
      "cell_type": "code",
      "execution_count": null,
      "metadata": {
        "colab": {
          "base_uri": "https://localhost:8080/"
        },
        "id": "Nl45IVva7y4a",
        "outputId": "f8d11ce8-ba0d-4a13-cbe5-0d76b0f8fa1f"
      },
      "outputs": [],
      "source": [
        "class Car:\n",
        "\tdef __init__(self, brand, model):\n",
        "\t\tself.brand = brand\n",
        "\t\tself.model = model\n",
        "\n",
        "\tdef move(self):\n",
        "\t\tprint('Drive!')\n",
        "\n",
        "class Boat:\n",
        "\tdef __init__(self, brand, model):\n",
        "\t\tself.brand = brand\n",
        "\t\tself.model = model\n",
        "\n",
        "\tdef move(self):\n",
        "\t\tprint('Sail!')\n",
        "\n",
        "class Plane:\n",
        "\tdef __init__(self, brand, model):\n",
        "\t\tself.brand = brand\n",
        "\t\tself.model = model\n",
        "\n",
        "\tdef move(self):\n",
        "\t\tprint('Fly!')\n",
        "\n",
        "car1 = Car('Ford', 'Mustang')       # Create a Car class\n",
        "boat1 = Boat('Ibiza', 'Touring 20') # Create a Boat class\n",
        "plane1 = Plane('Boeing', '747')     # Create a Plane class\n",
        "\n",
        "for vehicle in (car1, boat1, plane1):\n",
        "\tvehicle.move()"
      ]
    },
    {
      "cell_type": "markdown",
      "metadata": {
        "id": "UR7_EWE78Mxw"
      },
      "source": [
        "## 3. Inheritance Class Polymorphism"
      ]
    },
    {
      "cell_type": "code",
      "execution_count": null,
      "metadata": {
        "colab": {
          "base_uri": "https://localhost:8080/"
        },
        "id": "PF1xhS7c8RBs",
        "outputId": "c0f118c5-606b-40f7-f5e6-12640eaa0397"
      },
      "outputs": [],
      "source": [
        "class Vehicle:\n",
        "\tdef __init__(self, brand, model):\n",
        "\t\tself.brand = brand\n",
        "\t\tself.model = model\n",
        "\n",
        "\tdef move(self):\n",
        "\t\tprint('Move!')\n",
        "\n",
        "class Car(Vehicle):\n",
        "\tpass\n",
        "\n",
        "class Boat(Vehicle):\n",
        "\tdef move(self):\n",
        "\t\tprint('Sail!')\n",
        "\n",
        "class Plane(Vehicle):\n",
        "\tdef move(self):\n",
        "\t\tprint('Fly!')\n",
        "\n",
        "car1 = Car('Ford', 'Mustang')\t\t# Create a Car object\n",
        "boat1 = Boat('Ibiza', 'Touring 20')\t# Create a Boat object\n",
        "plane1 = Plane('Boeing', '747')\t\t# Create a Plane object\n",
        "\n",
        "for vehicle in (car1, boat1, plane1):\n",
        "\tprint(vehicle.brand)\n",
        "\tprint(vehicle.model)\n",
        "\tvehicle.move()"
      ]
    },
    {
      "cell_type": "markdown",
      "metadata": {
        "id": "c44em2VZgikt"
      },
      "source": [
        "# ENCAPSULATION"
      ]
    },
    {
      "cell_type": "markdown",
      "metadata": {
        "id": "gVLACRJc9jWJ"
      },
      "source": [
        "## 1. Private Attribute"
      ]
    },
    {
      "cell_type": "code",
      "execution_count": null,
      "metadata": {
        "colab": {
          "base_uri": "https://localhost:8080/",
          "height": 227
        },
        "id": "Mli9U6f6gmGW",
        "outputId": "3150aec2-1034-4642-80f2-3089d7ccee8c"
      },
      "outputs": [],
      "source": [
        "class Car:\n",
        "    def __init__(self, brand):\n",
        "        self.__brand = brand\n",
        "\n",
        "    def move(self):\n",
        "        return f'The {self.__brand} is moving now!'\n",
        "\n",
        "car = Car('Volkswagen')\n",
        "\n",
        "print(car.move())\n",
        "print(car.__brand)"
      ]
    },
    {
      "cell_type": "markdown",
      "metadata": {
        "id": "apQfiuWZ9n3R"
      },
      "source": [
        "## 2. Protected Attribute"
      ]
    },
    {
      "cell_type": "code",
      "execution_count": null,
      "metadata": {
        "colab": {
          "base_uri": "https://localhost:8080/"
        },
        "id": "yyZJsHMk9iFJ",
        "outputId": "bde37c89-d649-43cb-e952-d33dd4d8a555"
      },
      "outputs": [],
      "source": [
        "class Car:\n",
        "    def __init__(self, brand):\n",
        "        self._brand = brand\n",
        "\n",
        "    def move(self):\n",
        "        return f'The {self._brand} is moving now!'\n",
        "\n",
        "car = Car('Volkswagen')\n",
        "\n",
        "print(car._brand)"
      ]
    },
    {
      "cell_type": "markdown",
      "metadata": {
        "id": "P_pxjq0ugmaH"
      },
      "source": [
        "# ABSTRACTION"
      ]
    },
    {
      "cell_type": "code",
      "execution_count": null,
      "metadata": {
        "id": "YtdG_iwvgn93"
      },
      "outputs": [],
      "source": [
        "from abc import ABC, abstractmethod\n",
        "\n",
        "class Car(ABC):\n",
        "\t@abstractmethod\n",
        "\tdef car_model(self):\n",
        "\t\tpass"
      ]
    },
    {
      "cell_type": "code",
      "execution_count": 5,
      "metadata": {
        "colab": {
          "base_uri": "https://localhost:8080/",
          "height": 210
        },
        "id": "WrcpLg-h90XG",
        "outputId": "b7aa33ba-20ba-469b-8e66-3dab1a429ca5"
      },
      "outputs": [
        {
          "ename": "TypeError",
          "evalue": "Can't instantiate abstract class Car with abstract method car_model",
          "output_type": "error",
          "traceback": [
            "\u001b[0;31m---------------------------------------------------------------------------\u001b[0m",
            "\u001b[0;31mTypeError\u001b[0m                                 Traceback (most recent call last)",
            "\u001b[1;32m/Volumes/Workspace /AIoT-Lab-VN/Python/3_OOP_With_Python.ipynb Cell 55\u001b[0m line \u001b[0;36m8\n\u001b[1;32m      <a href='vscode-notebook-cell:/Volumes/Workspace%20/AIoT-Lab-VN/Python/3_OOP_With_Python.ipynb#Y105sZmlsZQ%3D%3D?line=3'>4</a>\u001b[0m \t\u001b[39m@abstractmethod\u001b[39m\n\u001b[1;32m      <a href='vscode-notebook-cell:/Volumes/Workspace%20/AIoT-Lab-VN/Python/3_OOP_With_Python.ipynb#Y105sZmlsZQ%3D%3D?line=4'>5</a>\u001b[0m \t\u001b[39mdef\u001b[39;00m \u001b[39mcar_model\u001b[39m(\u001b[39mself\u001b[39m):\n\u001b[1;32m      <a href='vscode-notebook-cell:/Volumes/Workspace%20/AIoT-Lab-VN/Python/3_OOP_With_Python.ipynb#Y105sZmlsZQ%3D%3D?line=5'>6</a>\u001b[0m \t\t\u001b[39mpass\u001b[39;00m\n\u001b[0;32m----> <a href='vscode-notebook-cell:/Volumes/Workspace%20/AIoT-Lab-VN/Python/3_OOP_With_Python.ipynb#Y105sZmlsZQ%3D%3D?line=7'>8</a>\u001b[0m car \u001b[39m=\u001b[39m Car()\n",
            "\u001b[0;31mTypeError\u001b[0m: Can't instantiate abstract class Car with abstract method car_model"
          ]
        }
      ],
      "source": [
        "from abc import ABC, abstractmethod\n",
        "\n",
        "class Car(ABC):\n",
        "\t@abstractmethod\n",
        "\tdef car_model(self):\n",
        "\t\tpass\n",
        "\n",
        "car = Car()"
      ]
    },
    {
      "cell_type": "code",
      "execution_count": 4,
      "metadata": {
        "colab": {
          "base_uri": "https://localhost:8080/"
        },
        "id": "spBkeWxw96VZ",
        "outputId": "53013882-3d28-4bbb-fe15-1437b1b3726b"
      },
      "outputs": [
        {
          "name": "stdout",
          "output_type": "stream",
          "text": [
            "This is a Tesla model\n",
            "This is a BMW model\n"
          ]
        }
      ],
      "source": [
        "from abc import ABC, abstractmethod\n",
        "\n",
        "class Car(ABC):\n",
        "\t@abstractmethod\n",
        "\tdef car_model(self):\n",
        "\t\tpass\n",
        "\n",
        "class Tesla(Car):\n",
        "\tdef car_model(self):\n",
        "\t\tprint('This is a Tesla model')\n",
        "\n",
        "class BMW(Car):\n",
        "\tdef car_model(self):\n",
        "\t\tprint('This is a BMW model')\n",
        "\n",
        "class Test(Car):\n",
        "\tdef __init__(self, a):\n",
        "\t\tself.a = a\n",
        "\n",
        "tesCar = Tesla()\n",
        "tesCar.car_model()\n",
        "\n",
        "bmwCar = BMW()\n",
        "bmwCar.car_model()"
      ]
    }
  ],
  "metadata": {
    "colab": {
      "provenance": []
    },
    "kernelspec": {
      "display_name": "Python 3",
      "name": "python3"
    },
    "language_info": {
      "codemirror_mode": {
        "name": "ipython",
        "version": 3
      },
      "file_extension": ".py",
      "mimetype": "text/x-python",
      "name": "python",
      "nbconvert_exporter": "python",
      "pygments_lexer": "ipython3",
      "version": "3.11.5"
    }
  },
  "nbformat": 4,
  "nbformat_minor": 0
}
